{
 "cells": [
  {
   "cell_type": "markdown",
   "id": "75ea7d58",
   "metadata": {},
   "source": [
    "## Determining an equation to model the sharp sensor\n",
    "\n",
    "In the ELEC 299 course, we used Excel to perform regression analysis to determine an appropriate model for the Sharp EO/IR sensor. However I will try to recreate that using python, to practice my programming and analytical skills a bit. "
   ]
  },
  {
   "cell_type": "code",
   "execution_count": 33,
   "id": "e6a90d3b",
   "metadata": {},
   "outputs": [],
   "source": [
    "import matplotlib.pyplot as plt\n",
    "import pandas as pd\n",
    "import numpy as np\n",
    "from sklearn.metrics import r2_score"
   ]
  },
  {
   "cell_type": "markdown",
   "id": "478a395b",
   "metadata": {},
   "source": [
    "reading in the .xlsx file using the read_excel(), will return a dataframe object"
   ]
  },
  {
   "cell_type": "code",
   "execution_count": 11,
   "id": "35d0788b",
   "metadata": {
    "scrolled": true
   },
   "outputs": [
    {
     "data": {
      "text/html": [
       "<div>\n",
       "<style scoped>\n",
       "    .dataframe tbody tr th:only-of-type {\n",
       "        vertical-align: middle;\n",
       "    }\n",
       "\n",
       "    .dataframe tbody tr th {\n",
       "        vertical-align: top;\n",
       "    }\n",
       "\n",
       "    .dataframe thead th {\n",
       "        text-align: right;\n",
       "    }\n",
       "</style>\n",
       "<table border=\"1\" class=\"dataframe\">\n",
       "  <thead>\n",
       "    <tr style=\"text-align: right;\">\n",
       "      <th></th>\n",
       "      <th>Analog Value</th>\n",
       "      <th>Estimated distance (CM)</th>\n",
       "    </tr>\n",
       "  </thead>\n",
       "  <tbody>\n",
       "    <tr>\n",
       "      <th>0</th>\n",
       "      <td>430</td>\n",
       "      <td>10</td>\n",
       "    </tr>\n",
       "    <tr>\n",
       "      <th>1</th>\n",
       "      <td>255</td>\n",
       "      <td>20</td>\n",
       "    </tr>\n",
       "    <tr>\n",
       "      <th>2</th>\n",
       "      <td>170</td>\n",
       "      <td>30</td>\n",
       "    </tr>\n",
       "    <tr>\n",
       "      <th>3</th>\n",
       "      <td>105</td>\n",
       "      <td>40</td>\n",
       "    </tr>\n",
       "    <tr>\n",
       "      <th>4</th>\n",
       "      <td>293</td>\n",
       "      <td>15</td>\n",
       "    </tr>\n",
       "    <tr>\n",
       "      <th>5</th>\n",
       "      <td>161</td>\n",
       "      <td>25</td>\n",
       "    </tr>\n",
       "    <tr>\n",
       "      <th>6</th>\n",
       "      <td>137</td>\n",
       "      <td>35</td>\n",
       "    </tr>\n",
       "    <tr>\n",
       "      <th>7</th>\n",
       "      <td>97</td>\n",
       "      <td>70</td>\n",
       "    </tr>\n",
       "    <tr>\n",
       "      <th>8</th>\n",
       "      <td>65</td>\n",
       "      <td>80</td>\n",
       "    </tr>\n",
       "  </tbody>\n",
       "</table>\n",
       "</div>"
      ],
      "text/plain": [
       "   Analog Value  Estimated distance (CM)\n",
       "0           430                       10\n",
       "1           255                       20\n",
       "2           170                       30\n",
       "3           105                       40\n",
       "4           293                       15\n",
       "5           161                       25\n",
       "6           137                       35\n",
       "7            97                       70\n",
       "8            65                       80"
      ]
     },
     "metadata": {},
     "output_type": "display_data"
    }
   ],
   "source": [
    "sensorData = pd.read_excel(\"Lab3-calculation.xlsx\")\n",
    "display(sensorData)\n",
    "\n",
    "rowNum = len(sensorData)"
   ]
  },
  {
   "cell_type": "markdown",
   "id": "26841ace",
   "metadata": {},
   "source": [
    "Now I will sort based on the analog values(x values), note the difference between the 2 dataframes."
   ]
  },
  {
   "cell_type": "code",
   "execution_count": 12,
   "id": "70d954f3",
   "metadata": {},
   "outputs": [
    {
     "data": {
      "text/html": [
       "<div>\n",
       "<style scoped>\n",
       "    .dataframe tbody tr th:only-of-type {\n",
       "        vertical-align: middle;\n",
       "    }\n",
       "\n",
       "    .dataframe tbody tr th {\n",
       "        vertical-align: top;\n",
       "    }\n",
       "\n",
       "    .dataframe thead th {\n",
       "        text-align: right;\n",
       "    }\n",
       "</style>\n",
       "<table border=\"1\" class=\"dataframe\">\n",
       "  <thead>\n",
       "    <tr style=\"text-align: right;\">\n",
       "      <th></th>\n",
       "      <th>Analog Value</th>\n",
       "      <th>Estimated distance (CM)</th>\n",
       "    </tr>\n",
       "  </thead>\n",
       "  <tbody>\n",
       "    <tr>\n",
       "      <th>8</th>\n",
       "      <td>65</td>\n",
       "      <td>80</td>\n",
       "    </tr>\n",
       "    <tr>\n",
       "      <th>7</th>\n",
       "      <td>97</td>\n",
       "      <td>70</td>\n",
       "    </tr>\n",
       "    <tr>\n",
       "      <th>3</th>\n",
       "      <td>105</td>\n",
       "      <td>40</td>\n",
       "    </tr>\n",
       "    <tr>\n",
       "      <th>6</th>\n",
       "      <td>137</td>\n",
       "      <td>35</td>\n",
       "    </tr>\n",
       "    <tr>\n",
       "      <th>5</th>\n",
       "      <td>161</td>\n",
       "      <td>25</td>\n",
       "    </tr>\n",
       "    <tr>\n",
       "      <th>2</th>\n",
       "      <td>170</td>\n",
       "      <td>30</td>\n",
       "    </tr>\n",
       "    <tr>\n",
       "      <th>1</th>\n",
       "      <td>255</td>\n",
       "      <td>20</td>\n",
       "    </tr>\n",
       "    <tr>\n",
       "      <th>4</th>\n",
       "      <td>293</td>\n",
       "      <td>15</td>\n",
       "    </tr>\n",
       "    <tr>\n",
       "      <th>0</th>\n",
       "      <td>430</td>\n",
       "      <td>10</td>\n",
       "    </tr>\n",
       "  </tbody>\n",
       "</table>\n",
       "</div>"
      ],
      "text/plain": [
       "   Analog Value  Estimated distance (CM)\n",
       "8            65                       80\n",
       "7            97                       70\n",
       "3           105                       40\n",
       "6           137                       35\n",
       "5           161                       25\n",
       "2           170                       30\n",
       "1           255                       20\n",
       "4           293                       15\n",
       "0           430                       10"
      ]
     },
     "metadata": {},
     "output_type": "display_data"
    }
   ],
   "source": [
    "sensorData = sensorData.sort_values('Analog Value')\n",
    "display(sensorData)"
   ]
  },
  {
   "cell_type": "markdown",
   "id": "5fd09d3f",
   "metadata": {},
   "source": [
    "Now we must plot the estimated distance (x) against the analog value (y)"
   ]
  },
  {
   "cell_type": "code",
   "execution_count": 4,
   "id": "2f022fee",
   "metadata": {},
   "outputs": [
    {
     "data": {
      "image/png": "[encoded data removed]",
      "text/plain": [
       "<Figure size 432x288 with 1 Axes>"
      ]
     },
     "metadata": {
      "needs_background": "light"
     },
     "output_type": "display_data"
    }
   ],
   "source": [
    "x = sensorData[[\"Analog Value\"]]\n",
    "y = sensorData[[\"Estimated distance (CM)\"]]\n",
    "\n",
    "plt.scatter(x,y)\n",
    "plt.show()"
   ]
  },
  {
   "cell_type": "markdown",
   "id": "b452ad49",
   "metadata": {},
   "source": [
    "To make it more compact and modular, I will functionalize the actual plotting process. Code was written by me based on the process from the GFG website."
   ]
  },
  {
   "cell_type": "code",
   "execution_count": 5,
   "id": "7af5c640",
   "metadata": {},
   "outputs": [],
   "source": [
    "def scatterPlot(xData, yData, title=\"x vs y\", xLabel=\"x\", yLabel=\"y\"):\n",
    "    plt.scatter(xData,yData)\n",
    "    plt.xlabel(xLabel)\n",
    "    plt.ylabel(yLabel)\n",
    "    plt.title(title)\n",
    "    "
   ]
  },
  {
   "cell_type": "markdown",
   "id": "3d61dfa0",
   "metadata": {},
   "source": [
    "Now to test the code I will use the same data from above."
   ]
  },
  {
   "cell_type": "code",
   "execution_count": 6,
   "id": "ed6289bc",
   "metadata": {},
   "outputs": [
    {
     "data": {
      "image/png": "[encoded data removed]",
      "text/plain": [
       "<Figure size 432x288 with 1 Axes>"
      ]
     },
     "metadata": {
      "needs_background": "light"
     },
     "output_type": "display_data"
    }
   ],
   "source": [
    "scatterPlot(x,y,\"Estimated Distance CM vs Analog Data measured by the team\", \"Analog Value (As seen from serial monitor)\", \"Estimated Distance (CM)\")\n",
    "plt.show()"
   ]
  },
  {
   "cell_type": "markdown",
   "id": "e70b15fe",
   "metadata": {},
   "source": [
    "Now we want to get the equation of the trendline that best fits this data, allowing for the conversion of analog values to a tangible distance (cm).\n",
    "\n",
    "To do so I will use the numpy method .polyfit() and a corresponding for loop. The for loop will be used to loop through the different degree polynomials and also because I don't know any better at this point in time. "
   ]
  },
  {
   "cell_type": "code",
   "execution_count": 7,
   "id": "d08ab5ca",
   "metadata": {},
   "outputs": [],
   "source": [
    "def plotTrendline(x,px,clr):\n",
    "    plt.plot(x,px,clr)"
   ]
  },
  {
   "cell_type": "markdown",
   "id": "8f8d52d8",
   "metadata": {},
   "source": [
    "Now the for loop:"
   ]
  },
  {
   "cell_type": "code",
   "execution_count": 8,
   "id": "ded28aec",
   "metadata": {
    "scrolled": true
   },
   "outputs": [
    {
     "name": "stdout",
     "output_type": "stream",
     "text": [
      "X dimension: 2\n",
      "Y dimension: 2\n"
     ]
    }
   ],
   "source": [
    "print(\"X dimension: \" + str(x.ndim))\n",
    "print(\"Y dimension: \" + str(y.ndim))"
   ]
  },
  {
   "cell_type": "markdown",
   "id": "45b141bc",
   "metadata": {},
   "source": [
    "While I was doing the for loop, I kept getting errors that made the program crash. Specifically the program was saying that I was inputting a 2-D array while I thought I wasn't. Turns out that I left the index column in both x and y adding an extra dimension to each.\n",
    "\n",
    "We just need the values, so we will retrieve just the values."
   ]
  },
  {
   "cell_type": "code",
   "execution_count": 9,
   "id": "52ebd5cc",
   "metadata": {
    "scrolled": false
   },
   "outputs": [],
   "source": [
    "xVal = list(np.reshape(x.values, rowNum))\n",
    "yVal = list(np.reshape(y.values, rowNum))"
   ]
  },
  {
   "cell_type": "markdown",
   "id": "bdb0cf5c",
   "metadata": {},
   "source": [
    "By using the reshape method of the Numpy library, I converted the 2D array into a 1D array.\n",
    "\n",
    "Now I will calculate the trendlines and display the equation and R^2 values."
   ]
  },
  {
   "cell_type": "code",
   "execution_count": 10,
   "id": "f881673a",
   "metadata": {},
   "outputs": [
    {
     "data": {
      "image/png": "[encoded data removed]",
      "text/plain": [
       "<Figure size 432x288 with 1 Axes>"
      ]
     },
     "metadata": {
      "needs_background": "light"
     },
     "output_type": "display_data"
    }
   ],
   "source": [
    "plt.scatter(xVal, yVal)\n",
    "plt.xlabel(\"Analog Data\")\n",
    "plt.ylabel(\"Estimated Distance (CM)\")\n",
    "plt.title(\"Estimated Distance vs Analog Data\")\n",
    "# trendline stuff\n",
    "\n",
    "model = np.poly1d(np.polyfit(xVal, yVal, 5))\n",
    "\n",
    "plt.plot(xVal, model(xVal))\n",
    "plt.show()\n",
    "    "
   ]
  },
  {
   "cell_type": "markdown",
   "id": "9be0c391",
   "metadata": {},
   "source": [
    "## Side Note\n",
    "\n",
    "I had a lot of trouble properly displaying my trendline, due to the fact that my data was not prepared properly. Thus I went back and sorted it to actually get it to work. The x values must be sorted in an ascending manner whilst maintaining their respective y values."
   ]
  },
  {
   "cell_type": "markdown",
   "id": "ec512288",
   "metadata": {},
   "source": [
    "## Actual Analysis\n",
    "\n",
    "To compare which line and equation is the best fit, I will display trendlines (up to sixth order) superimposed over the scatter plot."
   ]
  },
  {
   "cell_type": "markdown",
   "id": "488d6a89",
   "metadata": {},
   "source": [
    "Function to compute the trendline for a given order polynomial and data set:"
   ]
  },
  {
   "cell_type": "code",
   "execution_count": 28,
   "id": "8df0886d",
   "metadata": {},
   "outputs": [],
   "source": [
    "def calcTrendline(xData, yData, deg=1):\n",
    "    model = np.poly1d(np.polyfit(xData, yData, deg))\n",
    "    return model"
   ]
  },
  {
   "cell_type": "code",
   "execution_count": 31,
   "id": "02a2b829",
   "metadata": {
    "scrolled": true
   },
   "outputs": [
    {
     "data": {
      "image/png": "[encoded data removed]",
      "text/plain": [
       "<Figure size 1080x720 with 6 Axes>"
      ]
     },
     "metadata": {
      "needs_background": "light"
     },
     "output_type": "display_data"
    }
   ],
   "source": [
    "fig, ax = plt.subplots(3,2,figsize=(15,10)) # 3 rows, 2 column\n",
    "\n",
    "i = 1 # var for storing the current order polynomial\n",
    "\n",
    "for row in range(3):\n",
    "    for col in range(2):\n",
    "        ax[row, col].scatter(xVal, yVal)\n",
    "        ax[row, col].set_title('%d order polynomial regression' % i)\n",
    "        line = calcTrendline(xVal, yVal, i)\n",
    "        \n",
    "        ax[row, col].plot(xVal, line(xVal)) # plotting the trendline over the scatter\n",
    "        \n",
    "        i+=1 # incrementing the polynomial counter\n",
    "\n",
    "plt.show()"
   ]
  },
  {
   "cell_type": "markdown",
   "id": "c8be6324",
   "metadata": {},
   "source": [
    "Now that we have displayed the plots, we should summarize the equations of the lines and the respective correlation coefficients into a dataframe for easy analysis and export."
   ]
  },
  {
   "cell_type": "code",
   "execution_count": 43,
   "id": "b0b3a044",
   "metadata": {},
   "outputs": [
    {
     "name": "stdout",
     "output_type": "stream",
     "text": [
      "[[1, 0.6434648844224093], [2, 0.8556783919569174], [3, 0.9219764888700925], [4, 0.9238964279481328], [5, 0.9286106490707783], [6, 0.9414163781938519]]\n"
     ]
    },
    {
     "data": {
      "text/html": [
       "<div>\n",
       "<style scoped>\n",
       "    .dataframe tbody tr th:only-of-type {\n",
       "        vertical-align: middle;\n",
       "    }\n",
       "\n",
       "    .dataframe tbody tr th {\n",
       "        vertical-align: top;\n",
       "    }\n",
       "\n",
       "    .dataframe thead th {\n",
       "        text-align: right;\n",
       "    }\n",
       "</style>\n",
       "<table border=\"1\" class=\"dataframe\">\n",
       "  <thead>\n",
       "    <tr style=\"text-align: right;\">\n",
       "      <th></th>\n",
       "      <th>Polynomial Order</th>\n",
       "      <th>R-Square Value</th>\n",
       "    </tr>\n",
       "  </thead>\n",
       "  <tbody>\n",
       "    <tr>\n",
       "      <th>0</th>\n",
       "      <td>1</td>\n",
       "      <td>0.643465</td>\n",
       "    </tr>\n",
       "    <tr>\n",
       "      <th>1</th>\n",
       "      <td>2</td>\n",
       "      <td>0.855678</td>\n",
       "    </tr>\n",
       "    <tr>\n",
       "      <th>2</th>\n",
       "      <td>3</td>\n",
       "      <td>0.921976</td>\n",
       "    </tr>\n",
       "    <tr>\n",
       "      <th>3</th>\n",
       "      <td>4</td>\n",
       "      <td>0.923896</td>\n",
       "    </tr>\n",
       "    <tr>\n",
       "      <th>4</th>\n",
       "      <td>5</td>\n",
       "      <td>0.928611</td>\n",
       "    </tr>\n",
       "    <tr>\n",
       "      <th>5</th>\n",
       "      <td>6</td>\n",
       "      <td>0.941416</td>\n",
       "    </tr>\n",
       "  </tbody>\n",
       "</table>\n",
       "</div>"
      ],
      "text/plain": [
       "   Polynomial Order  R-Square Value\n",
       "0                 1        0.643465\n",
       "1                 2        0.855678\n",
       "2                 3        0.921976\n",
       "3                 4        0.923896\n",
       "4                 5        0.928611\n",
       "5                 6        0.941416"
      ]
     },
     "metadata": {},
     "output_type": "display_data"
    }
   ],
   "source": [
    "info_ls = [] # empty list (will convert to dataframe later)\n",
    "\n",
    "def populateArr(deg):\n",
    "    line = calcTrendline(xVal, yVal, deg)\n",
    "    rsquare = r2_score(yVal, line(xVal))\n",
    "    return [deg, rsquare]\n",
    "\n",
    "for idx in range(6):\n",
    "    info_ls.append(populateArr(idx+1))\n",
    "\n",
    "print(info_ls)\n",
    "# convert to pd dataframe\n",
    "\n",
    "results = pd.DataFrame(info_ls, columns=[\"Polynomial Order\", \"R-Square Value\"])\n",
    "display(results)\n",
    "   "
   ]
  },
  {
   "cell_type": "markdown",
   "id": "76fcdd00",
   "metadata": {},
   "source": [
    "Now that we have the dataframe, lets sort it in a descending order to see which has the best r-square."
   ]
  },
  {
   "cell_type": "code",
   "execution_count": 45,
   "id": "5b259674",
   "metadata": {},
   "outputs": [
    {
     "data": {
      "text/html": [
       "<div>\n",
       "<style scoped>\n",
       "    .dataframe tbody tr th:only-of-type {\n",
       "        vertical-align: middle;\n",
       "    }\n",
       "\n",
       "    .dataframe tbody tr th {\n",
       "        vertical-align: top;\n",
       "    }\n",
       "\n",
       "    .dataframe thead th {\n",
       "        text-align: right;\n",
       "    }\n",
       "</style>\n",
       "<table border=\"1\" class=\"dataframe\">\n",
       "  <thead>\n",
       "    <tr style=\"text-align: right;\">\n",
       "      <th></th>\n",
       "      <th>Polynomial Order</th>\n",
       "      <th>R-Square Value</th>\n",
       "    </tr>\n",
       "  </thead>\n",
       "  <tbody>\n",
       "    <tr>\n",
       "      <th>5</th>\n",
       "      <td>6</td>\n",
       "      <td>0.941416</td>\n",
       "    </tr>\n",
       "    <tr>\n",
       "      <th>4</th>\n",
       "      <td>5</td>\n",
       "      <td>0.928611</td>\n",
       "    </tr>\n",
       "    <tr>\n",
       "      <th>3</th>\n",
       "      <td>4</td>\n",
       "      <td>0.923896</td>\n",
       "    </tr>\n",
       "    <tr>\n",
       "      <th>2</th>\n",
       "      <td>3</td>\n",
       "      <td>0.921976</td>\n",
       "    </tr>\n",
       "    <tr>\n",
       "      <th>1</th>\n",
       "      <td>2</td>\n",
       "      <td>0.855678</td>\n",
       "    </tr>\n",
       "    <tr>\n",
       "      <th>0</th>\n",
       "      <td>1</td>\n",
       "      <td>0.643465</td>\n",
       "    </tr>\n",
       "  </tbody>\n",
       "</table>\n",
       "</div>"
      ],
      "text/plain": [
       "   Polynomial Order  R-Square Value\n",
       "5                 6        0.941416\n",
       "4                 5        0.928611\n",
       "3                 4        0.923896\n",
       "2                 3        0.921976\n",
       "1                 2        0.855678\n",
       "0                 1        0.643465"
      ]
     },
     "metadata": {},
     "output_type": "display_data"
    }
   ],
   "source": [
    "results = results.sort_values('R-Square Value', ascending=False)\n",
    "display(results)"
   ]
  },
  {
   "cell_type": "markdown",
   "id": "c2f7515d",
   "metadata": {},
   "source": [
    "From here we can see that the best fit polynomial is one of sixth-order, but it should be noted that this polynomial may overfit the data given that the intial dataset it quite small.\n",
    "\n",
    "The data itself was also not collected in the most accurate of manners, we didn't even have a ruler to take measurements. So everything here should be taken with a grain of salt."
   ]
  },
  {
   "cell_type": "code",
   "execution_count": null,
   "id": "578438ab",
   "metadata": {},
   "outputs": [],
   "source": []
  }
 ],
 "metadata": {
  "kernelspec": {
   "display_name": "Python 3 (ipykernel)",
   "language": "python",
   "name": "python3"
  },
  "language_info": {
   "codemirror_mode": {
    "name": "ipython",
    "version": 3
   },
   "file_extension": ".py",
   "mimetype": "text/x-python",
   "name": "python",
   "nbconvert_exporter": "python",
   "pygments_lexer": "ipython3",
   "version": "3.9.7"
  }
 },
 "nbformat": 4,
 "nbformat_minor": 5
}
