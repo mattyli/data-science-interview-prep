{
 "cells": [
  {
   "cell_type": "markdown",
   "metadata": {},
   "source": [
    "# Question 2 of EWA Queen's\n",
    "\n",
    "So every year at Queen's, the first year engineers are mandated to complete and Excel-Word Assignment to test their competency with this kind of software. I thought that completing the data analysis using python instead of Excel would be a good way to practice my skills, so here it is."
   ]
  },
  {
   "cell_type": "code",
   "execution_count": 2,
   "metadata": {},
   "outputs": [],
   "source": [
    "import numpy as np                          # number handling\n",
    "import pandas as pd                         # dataframe handling\n",
    "import matplotlib.pyplot as plt             # to plot graphs\n",
    "from sklearn.metrics import r2_score        # function to compute R^2"
   ]
  },
  {
   "cell_type": "markdown",
   "metadata": {},
   "source": [
    "Now I import the data from the excel file titled \"ProvidedData.xlsx\"."
   ]
  },
  {
   "cell_type": "code",
   "execution_count": 3,
   "metadata": {},
   "outputs": [
    {
     "data": {
      "text/html": [
       "<div>\n",
       "<style scoped>\n",
       "    .dataframe tbody tr th:only-of-type {\n",
       "        vertical-align: middle;\n",
       "    }\n",
       "\n",
       "    .dataframe tbody tr th {\n",
       "        vertical-align: top;\n",
       "    }\n",
       "\n",
       "    .dataframe thead th {\n",
       "        text-align: right;\n",
       "    }\n",
       "</style>\n",
       "<table border=\"1\" class=\"dataframe\">\n",
       "  <thead>\n",
       "    <tr style=\"text-align: right;\">\n",
       "      <th></th>\n",
       "      <th>Year</th>\n",
       "      <th>Average Annual Temperature (°C)</th>\n",
       "      <th>Total Annual Precipitation (mm)</th>\n",
       "      <th>Total Annual Snowfall (cm)</th>\n",
       "    </tr>\n",
       "  </thead>\n",
       "  <tbody>\n",
       "    <tr>\n",
       "      <th>0</th>\n",
       "      <td>1873</td>\n",
       "      <td>6.250000</td>\n",
       "      <td>1099.6</td>\n",
       "      <td>454.7</td>\n",
       "    </tr>\n",
       "    <tr>\n",
       "      <th>1</th>\n",
       "      <td>1874</td>\n",
       "      <td>6.291667</td>\n",
       "      <td>828.1</td>\n",
       "      <td>235.5</td>\n",
       "    </tr>\n",
       "    <tr>\n",
       "      <th>2</th>\n",
       "      <td>1875</td>\n",
       "      <td>5.175000</td>\n",
       "      <td>767.0</td>\n",
       "      <td>235.3</td>\n",
       "    </tr>\n",
       "    <tr>\n",
       "      <th>3</th>\n",
       "      <td>1876</td>\n",
       "      <td>6.633333</td>\n",
       "      <td>830.6</td>\n",
       "      <td>336.3</td>\n",
       "    </tr>\n",
       "    <tr>\n",
       "      <th>4</th>\n",
       "      <td>1877</td>\n",
       "      <td>7.875000</td>\n",
       "      <td>796.6</td>\n",
       "      <td>159.0</td>\n",
       "    </tr>\n",
       "    <tr>\n",
       "      <th>...</th>\n",
       "      <td>...</td>\n",
       "      <td>...</td>\n",
       "      <td>...</td>\n",
       "      <td>...</td>\n",
       "    </tr>\n",
       "    <tr>\n",
       "      <th>106</th>\n",
       "      <td>2002</td>\n",
       "      <td>8.533333</td>\n",
       "      <td>837.8</td>\n",
       "      <td>128.9</td>\n",
       "    </tr>\n",
       "    <tr>\n",
       "      <th>107</th>\n",
       "      <td>2003</td>\n",
       "      <td>6.950000</td>\n",
       "      <td>1077.6</td>\n",
       "      <td>189.0</td>\n",
       "    </tr>\n",
       "    <tr>\n",
       "      <th>108</th>\n",
       "      <td>2004</td>\n",
       "      <td>7.425000</td>\n",
       "      <td>990.7</td>\n",
       "      <td>122.4</td>\n",
       "    </tr>\n",
       "    <tr>\n",
       "      <th>109</th>\n",
       "      <td>2005</td>\n",
       "      <td>8.500000</td>\n",
       "      <td>901.3</td>\n",
       "      <td>152.7</td>\n",
       "    </tr>\n",
       "    <tr>\n",
       "      <th>110</th>\n",
       "      <td>2006</td>\n",
       "      <td>9.150000</td>\n",
       "      <td>1057.7</td>\n",
       "      <td>57.3</td>\n",
       "    </tr>\n",
       "  </tbody>\n",
       "</table>\n",
       "<p>111 rows × 4 columns</p>\n",
       "</div>"
      ],
      "text/plain": [
       "     Year  Average Annual Temperature (°C)  Total Annual Precipitation (mm)  \\\n",
       "0    1873                         6.250000                           1099.6   \n",
       "1    1874                         6.291667                            828.1   \n",
       "2    1875                         5.175000                            767.0   \n",
       "3    1876                         6.633333                            830.6   \n",
       "4    1877                         7.875000                            796.6   \n",
       "..    ...                              ...                              ...   \n",
       "106  2002                         8.533333                            837.8   \n",
       "107  2003                         6.950000                           1077.6   \n",
       "108  2004                         7.425000                            990.7   \n",
       "109  2005                         8.500000                            901.3   \n",
       "110  2006                         9.150000                           1057.7   \n",
       "\n",
       "     Total Annual Snowfall (cm)  \n",
       "0                         454.7  \n",
       "1                         235.5  \n",
       "2                         235.3  \n",
       "3                         336.3  \n",
       "4                         159.0  \n",
       "..                          ...  \n",
       "106                       128.9  \n",
       "107                       189.0  \n",
       "108                       122.4  \n",
       "109                       152.7  \n",
       "110                        57.3  \n",
       "\n",
       "[111 rows x 4 columns]"
      ]
     },
     "metadata": {},
     "output_type": "display_data"
    }
   ],
   "source": [
    "historicalData = pd.read_excel(\"ProvidedData.xlsx\")\n",
    "display(historicalData)"
   ]
  },
  {
   "cell_type": "markdown",
   "metadata": {},
   "source": [
    "Now we must construct scatter plots of time vs the other variables. I will first start by defining some functions to improve the modularity of this program."
   ]
  },
  {
   "cell_type": "code",
   "execution_count": 5,
   "metadata": {},
   "outputs": [],
   "source": [
    "def scatterPlot(xData, yData, title=\"x vs y\", xLabel=\"x\", yLabel=\"y\"):\n",
    "    plt.scatter(xData,yData)\n",
    "    plt.xlabel(xLabel)\n",
    "    plt.ylabel(yLabel)\n",
    "    plt.title(title)\n",
    "    plt.show()"
   ]
  },
  {
   "cell_type": "markdown",
   "metadata": {},
   "source": [
    "Now I will use a for loop to plot the new scatter plots using the subplots() method of matplotlib. "
   ]
  },
  {
   "cell_type": "code",
   "execution_count": 4,
   "metadata": {},
   "outputs": [
    {
     "name": "stdout",
     "output_type": "stream",
     "text": [
      "['Average Annual Temperature (°C)', 'Total Annual Precipitation (mm)', 'Total Annual Snowfall (cm)']\n"
     ]
    }
   ],
   "source": [
    "colNames = list(historicalData.columns) # creating a list to loop through\n",
    "colNames.remove(\"Year\")                 # this will always be the x axis\n",
    "rows, cols = 3,2\n",
    "fig, ax = plt.subplots(rows, cols, figsize=(15,10)) # setup for the use of subplots\n",
    "\n",
    "for row in range(rows):\n",
    "    for col in range(cols):\n",
    "        ax[row,col].scatter() # use the get function stuff here\n",
    "    \n",
    "\n"
   ]
  }
 ],
 "metadata": {
  "interpreter": {
   "hash": "2a42356ae3cb43aba60fe3295524d4a612a2ff3915e4a04f953490ffbc957a47"
  },
  "kernelspec": {
   "display_name": "Python 3.9.1 64-bit",
   "language": "python",
   "name": "python3"
  },
  "language_info": {
   "codemirror_mode": {
    "name": "ipython",
    "version": 3
   },
   "file_extension": ".py",
   "mimetype": "text/x-python",
   "name": "python",
   "nbconvert_exporter": "python",
   "pygments_lexer": "ipython3",
   "version": "3.9.7"
  },
  "orig_nbformat": 4
 },
 "nbformat": 4,
 "nbformat_minor": 2
}
